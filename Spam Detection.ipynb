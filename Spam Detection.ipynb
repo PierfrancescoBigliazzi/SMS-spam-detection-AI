{
 "cells": [
  {
   "cell_type": "markdown",
   "id": "686e8c0f",
   "metadata": {},
   "source": [
    "# **SMS Spam Detection**"
   ]
  },
  {
   "cell_type": "markdown",
   "id": "9f747155",
   "metadata": {},
   "source": [
    "## *Data Cleaning*"
   ]
  },
  {
   "cell_type": "code",
   "execution_count": null,
   "id": "f4d661f3",
   "metadata": {},
   "outputs": [],
   "source": []
  }
 ],
 "metadata": {
  "celltoolbar": "Raw Cell Format",
  "kernelspec": {
   "display_name": "Python 3",
   "language": "python",
   "name": "python3"
  },
  "language_info": {
   "codemirror_mode": {
    "name": "ipython",
    "version": 3
   },
   "file_extension": ".py",
   "mimetype": "text/x-python",
   "name": "python",
   "nbconvert_exporter": "python",
   "pygments_lexer": "ipython3",
   "version": "3.8.8"
  }
 },
 "nbformat": 4,
 "nbformat_minor": 5
}
