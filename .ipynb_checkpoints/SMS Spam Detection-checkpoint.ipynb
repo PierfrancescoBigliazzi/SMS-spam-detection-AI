{
 "cells": [
  {
   "cell_type": "markdown",
   "id": "68eb1cc5",
   "metadata": {},
   "source": [
    "# **SMS Spam Detection**"
   ]
  },
  {
   "cell_type": "markdown",
   "id": "6b66d5d7",
   "metadata": {},
   "source": [
    "## *Import Dataset and Data cleaning*"
   ]
  },
  {
   "cell_type": "markdown",
   "id": "3bdbc3f9",
   "metadata": {},
   "source": [
    "First we have to import the dataset. The dataset is composed of 5548 SMS."
   ]
  },
  {
   "cell_type": "code",
   "execution_count": 1,
   "id": "40a24c2f",
   "metadata": {},
   "outputs": [],
   "source": [
    "import os\n",
    "import nltk\n",
    "import pandas as pd\n",
    "import string\n",
    "import matplotlib.pyplot as plt"
   ]
  },
  {
   "cell_type": "code",
   "execution_count": 2,
   "id": "acc9cf49",
   "metadata": {},
   "outputs": [
    {
     "name": "stderr",
     "output_type": "stream",
     "text": [
      "[nltk_data] Downloading package stopwords to\n",
      "[nltk_data]     C:\\Users\\39349\\AppData\\Roaming\\nltk_data...\n",
      "[nltk_data]   Package stopwords is already up-to-date!\n",
      "[nltk_data] Downloading package words to\n",
      "[nltk_data]     C:\\Users\\39349\\AppData\\Roaming\\nltk_data...\n",
      "[nltk_data]   Package words is already up-to-date!\n",
      "[nltk_data] Downloading package punkt to\n",
      "[nltk_data]     C:\\Users\\39349\\AppData\\Roaming\\nltk_data...\n",
      "[nltk_data]   Package punkt is already up-to-date!\n"
     ]
    },
    {
     "data": {
      "text/plain": [
       "True"
      ]
     },
     "execution_count": 2,
     "metadata": {},
     "output_type": "execute_result"
    }
   ],
   "source": [
    "nltk.download('stopwords')\n",
    "nltk.download('words')\n",
    "nltk.download('punkt')"
   ]
  },
  {
   "cell_type": "code",
   "execution_count": 3,
   "id": "cbd46b0e",
   "metadata": {},
   "outputs": [
    {
     "name": "stdout",
     "output_type": "stream",
     "text": [
      "punctuations ['!', '\"', '#', '$', '%', '&', \"'\", '(', ')', '*', '+', ',', '-', '.', '/', ':', ';', '<', '=', '>', '?', '@', '[', '\\\\', ']', '^', '_', '`', '{', '|', '}', '~']\n",
      "\n",
      "stopwords {\"it's\", 'by', 'his', 'haven', 'but', 'because', 'some', \"couldn't\", \"haven't\", 're', 'mightn', 'on', 'herself', 'further', 'i', 'with', 'o', 'while', 'wouldn', 'not', 'needn', 'when', 'from', 'and', 'our', 'which', 'other', 'doesn', 'ours', 'being', 'under', 'm', 'you', 'does', 'himself', 'such', 'it', 'am', \"you'll\", \"wouldn't\", 'these', 'very', 'only', 'll', 'no', 'into', 'again', 'was', 'd', 'an', 'during', 'hasn', 'down', 'myself', \"mustn't\", 've', \"should've\", 'where', 'he', 'shan', 'after', 'each', 'now', 'hadn', 'up', 'isn', 'all', 'them', 'can', 'what', 'for', \"don't\", 'should', 'couldn', 'how', 'as', 'doing', 'below', 'don', 'yours', 'here', 'itself', 'they', 'that', 'had', 'aren', 'against', \"won't\", 'most', 'yourself', \"hasn't\", \"wasn't\", 'so', 'same', 'have', \"isn't\", 'their', 'yourselves', 'shouldn', 'more', 'if', 'too', \"doesn't\", 'didn', 'than', 'of', \"aren't\", 'we', \"you've\", 'themselves', 'who', \"that'll\", 'were', 'ma', 'at', 'nor', 'theirs', 'did', \"needn't\", 'will', 'won', 'out', 'ourselves', \"you're\", 'above', 'any', 'over', 'hers', 'is', 'wasn', 'me', 'its', 'having', 'why', 'between', 'just', 'are', \"she's\", 'own', 'weren', 'her', \"you'd\", 'or', 'off', 'has', 'a', 'until', 'those', 'both', \"hadn't\", 'through', \"shouldn't\", 'there', 'my', 'been', 'about', 'do', 'once', \"weren't\", 'the', 'your', 'this', 't', 'to', \"shan't\", \"mightn't\", 'whom', 'few', 'mustn', 'ain', 'him', 'in', 'be', 'y', 'then', 'she', \"didn't\", 's', 'before'}\n",
      "\n",
      "stemmer <PorterStemmer>\n",
      "\n"
     ]
    }
   ],
   "source": [
    "punctuations = list(string.punctuation)\n",
    "stopwords = set(nltk.corpus.stopwords.words('english'))\n",
    "stemmer = nltk.PorterStemmer()\n",
    "names = ['punctuations', 'stopwords', 'stemmer']\n",
    "objs = [punctuations, stopwords, stemmer]\n",
    "for name, obj in zip(names, objs):\n",
    "    print(name, obj)\n",
    "    print()"
   ]
  },
  {
   "cell_type": "code",
   "execution_count": 5,
   "id": "839ddeb4",
   "metadata": {},
   "outputs": [
    {
     "data": {
      "text/html": [
       "<div>\n",
       "<style scoped>\n",
       "    .dataframe tbody tr th:only-of-type {\n",
       "        vertical-align: middle;\n",
       "    }\n",
       "\n",
       "    .dataframe tbody tr th {\n",
       "        vertical-align: top;\n",
       "    }\n",
       "\n",
       "    .dataframe thead th {\n",
       "        text-align: right;\n",
       "    }\n",
       "</style>\n",
       "<table border=\"1\" class=\"dataframe\">\n",
       "  <thead>\n",
       "    <tr style=\"text-align: right;\">\n",
       "      <th></th>\n",
       "      <th>Labels</th>\n",
       "      <th>SMS</th>\n",
       "    </tr>\n",
       "  </thead>\n",
       "  <tbody>\n",
       "    <tr>\n",
       "      <th>0</th>\n",
       "      <td>ham</td>\n",
       "      <td>Go until jurong point, crazy.. Available only ...</td>\n",
       "    </tr>\n",
       "    <tr>\n",
       "      <th>1</th>\n",
       "      <td>ham</td>\n",
       "      <td>Ok lar... Joking wif u oni...</td>\n",
       "    </tr>\n",
       "    <tr>\n",
       "      <th>2</th>\n",
       "      <td>spam</td>\n",
       "      <td>Free entry in 2 a wkly comp to win FA Cup fina...</td>\n",
       "    </tr>\n",
       "    <tr>\n",
       "      <th>3</th>\n",
       "      <td>ham</td>\n",
       "      <td>U dun say so early hor... U c already then say...</td>\n",
       "    </tr>\n",
       "    <tr>\n",
       "      <th>4</th>\n",
       "      <td>ham</td>\n",
       "      <td>Nah I don't think he goes to usf, he lives aro...</td>\n",
       "    </tr>\n",
       "  </tbody>\n",
       "</table>\n",
       "</div>"
      ],
      "text/plain": [
       "  Labels                                                SMS\n",
       "0    ham  Go until jurong point, crazy.. Available only ...\n",
       "1    ham                      Ok lar... Joking wif u oni...\n",
       "2   spam  Free entry in 2 a wkly comp to win FA Cup fina...\n",
       "3    ham  U dun say so early hor... U c already then say...\n",
       "4    ham  Nah I don't think he goes to usf, he lives aro..."
      ]
     },
     "execution_count": 5,
     "metadata": {},
     "output_type": "execute_result"
    }
   ],
   "source": [
    "#Import the csv dataset file and transform it into a dataframe\n",
    "df = pd.read_csv('./dataset/sms_spam_no_header.csv',header = None, names = ['Labels','SMS'])\n",
    "df.head(5)"
   ]
  },
  {
   "cell_type": "code",
   "execution_count": 6,
   "id": "472b32dd",
   "metadata": {},
   "outputs": [],
   "source": [
    "def word_token(text):\n",
    "    if not text:\n",
    "        return\n",
    "    # Tokenize the message into words\n",
    "    tokens = nltk.word_tokenize(text)\n",
    "    return len(tokens)\n",
    "\n",
    "def sentence_token(text):\n",
    "    if not text:\n",
    "        return\n",
    "    # Tokenize the message into sentences\n",
    "    tokens = nltk.sent_tokenize(text)\n",
    "    return len(tokens)\n",
    "\n",
    "def check_numbers(text):\n",
    "    if not text:\n",
    "        return\n",
    "    #Check if there are numbers in the message\n",
    "    for n in text:\n",
    "        if (n.isdigit()):\n",
    "            return 1\n",
    "    return 0\n",
    "\n",
    "def check_links(text):\n",
    "    if not text:\n",
    "        return\n",
    "    links = ['http', 'https', 'www.', '.com', 'adf.ly', 'HTTP', 'HTTPS', 'WWW.', '.COM','.it','.de','.org','.uk']\n",
    "    #Check if there are links in the message\n",
    "    for n in links:\n",
    "        if (text.find(n) != -1):\n",
    "            return 1\n",
    "    return 0"
   ]
  },
  {
   "cell_type": "code",
   "execution_count": 7,
   "id": "27840a19",
   "metadata": {},
   "outputs": [
    {
     "name": "stdout",
     "output_type": "stream",
     "text": [
      "<class 'pandas.core.frame.DataFrame'>\n",
      "RangeIndex: 5574 entries, 0 to 5573\n",
      "Data columns (total 2 columns):\n",
      " #   Column  Non-Null Count  Dtype \n",
      "---  ------  --------------  ----- \n",
      " 0   Labels  5574 non-null   object\n",
      " 1   SMS     5574 non-null   object\n",
      "dtypes: object(2)\n",
      "memory usage: 87.2+ KB\n"
     ]
    }
   ],
   "source": [
    "df.info()"
   ]
  },
  {
   "cell_type": "code",
   "execution_count": 8,
   "id": "5c586e32",
   "metadata": {},
   "outputs": [
    {
     "data": {
      "text/html": [
       "<div>\n",
       "<style scoped>\n",
       "    .dataframe tbody tr th:only-of-type {\n",
       "        vertical-align: middle;\n",
       "    }\n",
       "\n",
       "    .dataframe tbody tr th {\n",
       "        vertical-align: top;\n",
       "    }\n",
       "\n",
       "    .dataframe thead th {\n",
       "        text-align: right;\n",
       "    }\n",
       "</style>\n",
       "<table border=\"1\" class=\"dataframe\">\n",
       "  <thead>\n",
       "    <tr style=\"text-align: right;\">\n",
       "      <th></th>\n",
       "      <th>Labels</th>\n",
       "      <th>SMS</th>\n",
       "    </tr>\n",
       "  </thead>\n",
       "  <tbody>\n",
       "    <tr>\n",
       "      <th>0</th>\n",
       "      <td>0</td>\n",
       "      <td>Go until jurong point, crazy.. Available only ...</td>\n",
       "    </tr>\n",
       "    <tr>\n",
       "      <th>1</th>\n",
       "      <td>0</td>\n",
       "      <td>Ok lar... Joking wif u oni...</td>\n",
       "    </tr>\n",
       "    <tr>\n",
       "      <th>2</th>\n",
       "      <td>1</td>\n",
       "      <td>Free entry in 2 a wkly comp to win FA Cup fina...</td>\n",
       "    </tr>\n",
       "    <tr>\n",
       "      <th>3</th>\n",
       "      <td>0</td>\n",
       "      <td>U dun say so early hor... U c already then say...</td>\n",
       "    </tr>\n",
       "    <tr>\n",
       "      <th>4</th>\n",
       "      <td>0</td>\n",
       "      <td>Nah I don't think he goes to usf, he lives aro...</td>\n",
       "    </tr>\n",
       "  </tbody>\n",
       "</table>\n",
       "</div>"
      ],
      "text/plain": [
       "   Labels                                                SMS\n",
       "0       0  Go until jurong point, crazy.. Available only ...\n",
       "1       0                      Ok lar... Joking wif u oni...\n",
       "2       1  Free entry in 2 a wkly comp to win FA Cup fina...\n",
       "3       0  U dun say so early hor... U c already then say...\n",
       "4       0  Nah I don't think he goes to usf, he lives aro..."
      ]
     },
     "execution_count": 8,
     "metadata": {},
     "output_type": "execute_result"
    }
   ],
   "source": [
    "#Map the categorical labels \"Spam\" and \"Ham\" into binary values (0,1)\n",
    "df['Labels'] = df['Labels'].map({'spam': 1, 'ham': 0})\n",
    "df.head()"
   ]
  },
  {
   "cell_type": "code",
   "execution_count": 9,
   "id": "0aa69c6b",
   "metadata": {},
   "outputs": [
    {
     "data": {
      "text/plain": [
       "Labels    0\n",
       "SMS       0\n",
       "dtype: int64"
      ]
     },
     "execution_count": 9,
     "metadata": {},
     "output_type": "execute_result"
    }
   ],
   "source": [
    "#Check null values\n",
    "df.isna().sum()"
   ]
  },
  {
   "cell_type": "code",
   "execution_count": 10,
   "id": "281b9e37",
   "metadata": {},
   "outputs": [
    {
     "data": {
      "text/plain": [
       "(5574, 2)"
      ]
     },
     "execution_count": 10,
     "metadata": {},
     "output_type": "execute_result"
    }
   ],
   "source": [
    "#Check the number of instances and the number of features\n",
    "df.shape"
   ]
  },
  {
   "cell_type": "code",
   "execution_count": 11,
   "id": "4b2a3300",
   "metadata": {},
   "outputs": [
    {
     "data": {
      "text/plain": [
       "(5160, 2)"
      ]
     },
     "execution_count": 11,
     "metadata": {},
     "output_type": "execute_result"
    }
   ],
   "source": [
    "#Check if there are duplicates messsages and, if so, drop them\n",
    "df.drop_duplicates(inplace = True)\n",
    "df.shape"
   ]
  },
  {
   "cell_type": "code",
   "execution_count": 16,
   "id": "e50ea8a4",
   "metadata": {},
   "outputs": [
    {
     "data": {
      "text/html": [
       "<div>\n",
       "<style scoped>\n",
       "    .dataframe tbody tr th:only-of-type {\n",
       "        vertical-align: middle;\n",
       "    }\n",
       "\n",
       "    .dataframe tbody tr th {\n",
       "        vertical-align: top;\n",
       "    }\n",
       "\n",
       "    .dataframe thead th {\n",
       "        text-align: right;\n",
       "    }\n",
       "</style>\n",
       "<table border=\"1\" class=\"dataframe\">\n",
       "  <thead>\n",
       "    <tr style=\"text-align: right;\">\n",
       "      <th></th>\n",
       "      <th>Labels</th>\n",
       "      <th>SMS</th>\n",
       "      <th>Length</th>\n",
       "      <th>Words</th>\n",
       "      <th>Sentences</th>\n",
       "      <th>Numbers</th>\n",
       "      <th>Links</th>\n",
       "    </tr>\n",
       "  </thead>\n",
       "  <tbody>\n",
       "    <tr>\n",
       "      <th>0</th>\n",
       "      <td>0</td>\n",
       "      <td>Go until jurong point, crazy.. Available only ...</td>\n",
       "      <td>111</td>\n",
       "      <td>24</td>\n",
       "      <td>2</td>\n",
       "      <td>0</td>\n",
       "      <td>0</td>\n",
       "    </tr>\n",
       "    <tr>\n",
       "      <th>1</th>\n",
       "      <td>0</td>\n",
       "      <td>Ok lar... Joking wif u oni...</td>\n",
       "      <td>29</td>\n",
       "      <td>8</td>\n",
       "      <td>2</td>\n",
       "      <td>0</td>\n",
       "      <td>0</td>\n",
       "    </tr>\n",
       "    <tr>\n",
       "      <th>2</th>\n",
       "      <td>1</td>\n",
       "      <td>Free entry in 2 a wkly comp to win FA Cup fina...</td>\n",
       "      <td>155</td>\n",
       "      <td>37</td>\n",
       "      <td>2</td>\n",
       "      <td>1</td>\n",
       "      <td>0</td>\n",
       "    </tr>\n",
       "    <tr>\n",
       "      <th>3</th>\n",
       "      <td>0</td>\n",
       "      <td>U dun say so early hor... U c already then say...</td>\n",
       "      <td>49</td>\n",
       "      <td>13</td>\n",
       "      <td>1</td>\n",
       "      <td>0</td>\n",
       "      <td>0</td>\n",
       "    </tr>\n",
       "    <tr>\n",
       "      <th>4</th>\n",
       "      <td>0</td>\n",
       "      <td>Nah I don't think he goes to usf, he lives aro...</td>\n",
       "      <td>61</td>\n",
       "      <td>15</td>\n",
       "      <td>1</td>\n",
       "      <td>0</td>\n",
       "      <td>0</td>\n",
       "    </tr>\n",
       "  </tbody>\n",
       "</table>\n",
       "</div>"
      ],
      "text/plain": [
       "   Labels                                                SMS  Length  Words  \\\n",
       "0       0  Go until jurong point, crazy.. Available only ...     111     24   \n",
       "1       0                      Ok lar... Joking wif u oni...      29      8   \n",
       "2       1  Free entry in 2 a wkly comp to win FA Cup fina...     155     37   \n",
       "3       0  U dun say so early hor... U c already then say...      49     13   \n",
       "4       0  Nah I don't think he goes to usf, he lives aro...      61     15   \n",
       "\n",
       "   Sentences  Numbers  Links  \n",
       "0          2        0      0  \n",
       "1          2        0      0  \n",
       "2          2        1      0  \n",
       "3          1        0      0  \n",
       "4          1        0      0  "
      ]
     },
     "execution_count": 16,
     "metadata": {},
     "output_type": "execute_result"
    }
   ],
   "source": [
    "df['Length'] = df['SMS'].apply(len)\n",
    "df['Words'] = df['SMS'].apply(word_token)\n",
    "df['Sentences'] = df['SMS'].apply(sentence_token)\n",
    "df['Numbers'] = df['SMS'].apply(check_numbers)\n",
    "df['Links'] = df['SMS'].apply(check_links)\n",
    "df.head(5)"
   ]
  },
  {
   "cell_type": "code",
   "execution_count": 19,
   "id": "2d5e3b17",
   "metadata": {},
   "outputs": [],
   "source": [
    "X = df['SMS']\n",
    "Y = df['Labels']"
   ]
  },
  {
   "cell_type": "markdown",
   "id": "86864683",
   "metadata": {},
   "source": [
    "## *Data analysis*"
   ]
  },
  {
   "cell_type": "markdown",
   "id": "2e6e9859",
   "metadata": {},
   "source": [
    "Now we start analyzing the dataset."
   ]
  },
  {
   "cell_type": "code",
   "execution_count": 66,
   "id": "8e2adfbc",
   "metadata": {},
   "outputs": [],
   "source": [
    "import string\n",
    "import numpy as np\n",
    "import matplotlib.pyplot as plt\n",
    "from sklearn.feature_extraction.text import CountVectorizer\n",
    "from wordcloud import WordCloud, STOPWORDS\n",
    "import seaborn as sns\n",
    "from PIL import Image\n",
    "from sklearn.model_selection import train_test_split"
   ]
  },
  {
   "cell_type": "markdown",
   "id": "70a90dfd",
   "metadata": {},
   "source": [
    "First, we analyze the distribution of spam/ham messages inside the dataset."
   ]
  },
  {
   "cell_type": "code",
   "execution_count": 67,
   "id": "9af1334f",
   "metadata": {},
   "outputs": [
    {
     "data": {
      "image/png": "[encoded data removed]",
      "text/plain": [
       "<Figure size 432x288 with 1 Axes>"
      ]
     },
     "metadata": {
      "needs_background": "light"
     },
     "output_type": "display_data"
    }
   ],
   "source": [
    "fig,ax = plt.subplots()\n",
    "\n",
    "ax.hist(Y,bins=[0,0.5,1], color='r', rwidth=0.5)\n",
    "ax.set_xlabel('Label',fontsize = 20)\n",
    "ax.set_ylabel('Instances', fontsize = 20)\n",
    "ax.set_title('Distribution of Spam/Ham messages',fontsize = 20)\n",
    "ax.set_facecolor('white')\n",
    "ax.set_xticks(np.arange(0,2,1))\n",
    "\n",
    "plt.savefig('images/distribution_spam_ham.png', format='png', transparent=True)\n",
    "plt.show()"
   ]
  },
  {
   "cell_type": "markdown",
   "id": "3c90d71f",
   "metadata": {},
   "source": [
    "We split the datset in training set and test set"
   ]
  },
  {
   "cell_type": "code",
   "execution_count": 68,
   "id": "c3c80843",
   "metadata": {},
   "outputs": [],
   "source": [
    "#Split the dataset into training set and test set (70/30)\n",
    "X_train, X_test, y_train, y_test = train_test_split(X, Y, stratify = Y, test_size = 0.3,random_state = 0)"
   ]
  },
  {
   "cell_type": "markdown",
   "id": "2787884a",
   "metadata": {},
   "source": [
    "We analyze the distribution of spam/ham messages in the training set and in the test set"
   ]
  },
  {
   "cell_type": "code",
   "execution_count": 109,
   "id": "9f86b7d3",
   "metadata": {},
   "outputs": [
    {
     "data": {
      "image/png": "[encoded data removed]",
      "text/plain": [
       "<Figure size 360x360 with 2 Axes>"
      ]
     },
     "metadata": {
      "needs_background": "light"
     },
     "output_type": "display_data"
    }
   ],
   "source": [
    "fig,ax = plt.subplots(1,2,figsize=(5,5))\n",
    "\n",
    "ax[0].hist(y_train,bins=[0,0.5,1], color='b', rwidth=0.5)\n",
    "ax[0].set_xlabel('Label',fontsize = 10)\n",
    "ax[0].set_ylabel('Instances', fontsize = 10)\n",
    "ax[0].set_title('Training set', fontsize = 10)\n",
    "ax[0].set_xticks(np.arange(0,2,1))\n",
    "\n",
    "ax[1].hist(y_test,bins=[0,0.5,1], color='g', rwidth=0.5)\n",
    "ax[1].set_xlabel('Label',fontsize = 10)\n",
    "ax[1].set_ylabel('Instances', fontsize = 10)\n",
    "ax[1].set_title('Test set',fontsize = 10)\n",
    "ax[1].set_xticks(np.arange(0,2,1))\n",
    "\n",
    "plt.savefig('images/training_and_test_set_distribution.png', format='png', transparent=True)\n",
    "\n",
    "plt.tight_layout()\n",
    "plt.show()"
   ]
  },
  {
   "cell_type": "code",
   "execution_count": 106,
   "id": "b1ecbcea",
   "metadata": {},
   "outputs": [
    {
     "data": {
      "image/png": "[encoded data removed]",
      "text/plain": [
       "<Figure size 1008x504 with 2 Axes>"
      ]
     },
     "metadata": {
      "needs_background": "light"
     },
     "output_type": "display_data"
    }
   ],
   "source": [
    "#Analysis of the distribution of words in ham and in spam messages\n",
    "fig,ax = plt.subplots(1,2,figsize=(14,7))\n",
    "\n",
    "ax[0].hist(df[df['Labels']==0].Words, color = 'b',bins ='auto',ec='black')\n",
    "ax[0].set_title('Number of words in ham messages')\n",
    "ax[0].set_xlabel('Words',fontsize = 10)\n",
    "ax[0].set_ylabel('Count',fontsize = 10)\n",
    "\n",
    "ax[1].hist(df[df['Labels']==1].Words, color = 'g',bins ='auto',ec='black')\n",
    "ax[1].set_title('Number of words in spam messages')\n",
    "ax[1].set_xlabel('Words',fontsize = 10)\n",
    "ax[1].set_ylabel('Count',fontsize = 10)\n",
    "\n",
    "plt.savefig('images/words_distribution.png', format='png', transparent=True)\n",
    "\n",
    "plt.tight_layout()\n",
    "plt.show()"
   ]
  },
  {
   "cell_type": "code",
   "execution_count": 129,
   "id": "4116cdfa",
   "metadata": {},
   "outputs": [
    {
     "data": {
      "image/png": "[encoded data removed]",
      "text/plain": [
       "<Figure size 432x432 with 1 Axes>"
      ]
     },
     "metadata": {
      "needs_background": "light"
     },
     "output_type": "display_data"
    }
   ],
   "source": [
    "#Analysis of the distribution of numbers in ham and spam messages\n",
    "plt.figure(figsize = (6,6))\n",
    "sns.countplot(x='Numbers',data=df, hue='Labels',palette=\"dark:b\")\n",
    "plt.title('Distribution of numbers in ham and spam messages')\n",
    "plt.ylabel('Count')\n",
    "plt.legend(labels=['Ham','Spam'])\n",
    "\n",
    "plt.savefig('images/numbers_distribution.png', format='png', transparent=True)\n",
    "plt.show()"
   ]
  },
  {
   "cell_type": "code",
   "execution_count": 118,
   "id": "fd47772a",
   "metadata": {},
   "outputs": [
    {
     "data": {
      "image/png": "[encoded data removed]",
      "text/plain": [
       "<Figure size 432x432 with 1 Axes>"
      ]
     },
     "metadata": {
      "needs_background": "light"
     },
     "output_type": "display_data"
    }
   ],
   "source": [
    "#Analysis of distribution of links in ham and spam messages\n",
    "plt.figure(figsize = (6,6))\n",
    "sns.countplot(x='Links',data=df, hue='Labels',palette=\"dark:b\")\n",
    "plt.title('Distribution of links in ham and spam messages')\n",
    "plt.ylabel('Count')\n",
    "plt.legend(labels=['Ham','Spam'])\n",
    "\n",
    "plt.savefig('images/links_distribution.png', format='png', transparent=True)\n",
    "plt.show()"
   ]
  },
  {
   "cell_type": "code",
   "execution_count": 135,
   "id": "d4b33eb4",
   "metadata": {},
   "outputs": [
    {
     "data": {
      "image/png": "[encoded data removed]",
      "text/plain": [
       "<Figure size 720x720 with 2 Axes>"
      ]
     },
     "metadata": {
      "needs_background": "light"
     },
     "output_type": "display_data"
    }
   ],
   "source": [
    "#Check possible correlations between features\n",
    "Matrix = df.corr()\n",
    "plt.figure(figsize=(10,10))\n",
    "sns.heatmap(Matrix, annot=True,cmap=\"YlGnBu\",linewidths=0.5,square = True)\n",
    "plt.title('Correlation between features')\n",
    "\n",
    "plt.savefig('images/correlation_matrix.png', format='png', transparent=True)\n",
    "plt.tight_layout()\n",
    "plt.show()"
   ]
  },
  {
   "cell_type": "code",
   "execution_count": null,
   "id": "96937a13",
   "metadata": {},
   "outputs": [],
   "source": []
  }
 ],
 "metadata": {
  "celltoolbar": "Raw Cell Format",
  "kernelspec": {
   "display_name": "Python 3",
   "language": "python",
   "name": "python3"
  },
  "language_info": {
   "codemirror_mode": {
    "name": "ipython",
    "version": 3
   },
   "file_extension": ".py",
   "mimetype": "text/x-python",
   "name": "python",
   "nbconvert_exporter": "python",
   "pygments_lexer": "ipython3",
   "version": "3.8.8"
  }
 },
 "nbformat": 4,
 "nbformat_minor": 5
}
